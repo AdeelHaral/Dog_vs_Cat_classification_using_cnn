{
  "nbformat": 4,
  "nbformat_minor": 0,
  "metadata": {
    "colab": {
      "provenance": [],
      "gpuType": "T4"
    },
    "kernelspec": {
      "name": "python3",
      "display_name": "Python 3"
    },
    "language_info": {
      "name": "python"
    },
    "accelerator": "GPU"
  },
  "cells": [
    {
      "cell_type": "code",
      "execution_count": 4,
      "metadata": {
        "id": "INhtkOXgf6gh"
      },
      "outputs": [],
      "source": [
        "import tensorflow as tf"
      ]
    },
    {
      "cell_type": "code",
      "source": [
        "from tensorflow.keras import layers\n",
        "from keras.layers import *\n",
        "from keras.models import Sequential\n",
        "from keras.layers import Flatten"
      ],
      "metadata": {
        "id": "vxWi38nL4X_F"
      },
      "execution_count": 5,
      "outputs": []
    },
    {
      "cell_type": "code",
      "source": [
        "model = Sequential([\n",
        "\n",
        "Conv2D(32, (3, 3), activation='relu', input_shape=(64, 64,3)),\n",
        "BatchNormalization(),\n",
        "MaxPooling2D(pool_size=(2, 2)),\n",
        "Dropout(0.25),\n",
        "\n",
        "Conv2D(64, (3, 3), activation='relu'),\n",
        "BatchNormalization(),\n",
        "MaxPooling2D(pool_size=(2, 2)),\n",
        "Dropout(0.25),\n",
        "\n",
        "Conv2D(128, (3, 3), activation='relu'),\n",
        "BatchNormalization(),\n",
        "MaxPooling2D(pool_size=(2, 2)),\n",
        "Dropout(0.25),\n",
        "\n",
        "Flatten(),\n",
        "Dense(512, activation='relu'),\n",
        "BatchNormalization(),\n",
        "Dropout(0.5),\n",
        "Dense(1, activation='sigmoid'), # 2 because we have cat and dog classes\n",
        "])\n",
        "\n",
        "model.compile(loss='binary_crossentropy', optimizer='adam', metrics=['accuracy'])\n"
      ],
      "metadata": {
        "id": "nPVTgJys4s2D"
      },
      "execution_count": 6,
      "outputs": []
    },
    {
      "cell_type": "code",
      "source": [
        "from tensorflow.keras.callbacks import ModelCheckpoint\n",
        "\n",
        "# Specify the path to save the best model\n",
        "model_checkpoint_path = '/content/drive/MyDrive/model.h5'\n",
        "\n",
        "# Create a ModelCheckpoint callback\n",
        "model_checkpoint = ModelCheckpoint(\n",
        "    model_checkpoint_path,\n",
        "    monitor='val_accuracy',  # or 'val_loss' depending on your preference\n",
        "    save_best_only=True,\n",
        "    mode='max',  # or 'min' if monitoring validation loss\n",
        "    verbose=1\n",
        ")"
      ],
      "metadata": {
        "id": "tSTsj4BkKtHt"
      },
      "execution_count": 10,
      "outputs": []
    },
    {
      "cell_type": "code",
      "source": [
        "from tensorflow.keras.preprocessing.image import ImageDataGenerator"
      ],
      "metadata": {
        "id": "HBqxI8i3A5J7"
      },
      "execution_count": 7,
      "outputs": []
    },
    {
      "cell_type": "code",
      "source": [
        "!unzip /content/drive/MyDrive/P16-Convolutional-Neural-Networks.zip -d /content"
      ],
      "metadata": {
        "id": "kyN7Nb9VS_dO"
      },
      "execution_count": null,
      "outputs": []
    },
    {
      "cell_type": "code",
      "source": [
        "train_datagen = ImageDataGenerator(\n",
        "        rescale=1./255,\n",
        "        shear_range=0.2,\n",
        "        zoom_range=0.2,\n",
        "        horizontal_flip=True)\n",
        "\n",
        "test_datagen = ImageDataGenerator(rescale=1./255)\n",
        "\n",
        "train_generator = train_datagen.flow_from_directory(\n",
        "        '/content/db/dataset/training_set',\n",
        "        target_size=(64, 64),\n",
        "        batch_size=32,\n",
        "        class_mode='binary')\n",
        "\n",
        "validation_generator = test_datagen.flow_from_directory(\n",
        "        '/content/db/dataset/test_set',\n",
        "        target_size=(64, 64),\n",
        "        batch_size=32,\n",
        "        class_mode='binary')\n",
        "\n",
        "model.fit_generator(\n",
        "    train_generator,\n",
        "    steps_per_epoch=len(train_generator),\n",
        "    epochs=30,\n",
        "    validation_data=validation_generator,\n",
        "    validation_steps=len(validation_generator),\n",
        "    callbacks=[model_checkpoint]\n",
        ")\n"
      ],
      "metadata": {
        "colab": {
          "base_uri": "https://localhost:8080/"
        },
        "id": "s1aUl3Sp53tv",
        "outputId": "877ed3d4-aedb-4a27-bfbc-cc3eba2c641e"
      },
      "execution_count": 11,
      "outputs": [
        {
          "output_type": "stream",
          "name": "stdout",
          "text": [
            "Found 8000 images belonging to 2 classes.\n",
            "Found 2000 images belonging to 2 classes.\n",
            "Epoch 1/30\n"
          ]
        },
        {
          "output_type": "stream",
          "name": "stderr",
          "text": [
            "<ipython-input-11-b36464cc22d3>:21: UserWarning: `Model.fit_generator` is deprecated and will be removed in a future version. Please use `Model.fit`, which supports generators.\n",
            "  model.fit_generator(\n"
          ]
        },
        {
          "output_type": "stream",
          "name": "stdout",
          "text": [
            "250/250 [==============================] - ETA: 0s - loss: 0.8009 - accuracy: 0.6191\n",
            "Epoch 1: val_accuracy improved from -inf to 0.56600, saving model to /content/drive/MyDrive/model.h5\n"
          ]
        },
        {
          "output_type": "stream",
          "name": "stderr",
          "text": [
            "/usr/local/lib/python3.10/dist-packages/keras/src/engine/training.py:3079: UserWarning: You are saving your model as an HDF5 file via `model.save()`. This file format is considered legacy. We recommend using instead the native Keras format, e.g. `model.save('my_model.keras')`.\n",
            "  saving_api.save_model(\n"
          ]
        },
        {
          "output_type": "stream",
          "name": "stdout",
          "text": [
            "\b\b\b\b\b\b\b\b\b\b\b\b\b\b\b\b\b\b\b\b\b\b\b\b\b\b\b\b\b\b\b\b\b\b\b\b\b\b\b\b\b\b\b\b\b\b\b\b\b\b\b\b\b\b\b\b\b\b\b\b\b\b\b\b\b\b\b\b\b\b\b\b\b\b\b\b\b\b\b\b\b\b\b\b\r250/250 [==============================] - 40s 104ms/step - loss: 0.8009 - accuracy: 0.6191 - val_loss: 0.7539 - val_accuracy: 0.5660\n",
            "Epoch 2/30\n",
            "250/250 [==============================] - ETA: 0s - loss: 0.6317 - accuracy: 0.6719\n",
            "Epoch 2: val_accuracy improved from 0.56600 to 0.61050, saving model to /content/drive/MyDrive/model.h5\n",
            "250/250 [==============================] - 27s 108ms/step - loss: 0.6317 - accuracy: 0.6719 - val_loss: 0.7285 - val_accuracy: 0.6105\n",
            "Epoch 3/30\n",
            "250/250 [==============================] - ETA: 0s - loss: 0.5610 - accuracy: 0.7128\n",
            "Epoch 3: val_accuracy improved from 0.61050 to 0.74750, saving model to /content/drive/MyDrive/model.h5\n",
            "250/250 [==============================] - 28s 114ms/step - loss: 0.5610 - accuracy: 0.7128 - val_loss: 0.5262 - val_accuracy: 0.7475\n",
            "Epoch 4/30\n",
            "250/250 [==============================] - ETA: 0s - loss: 0.5394 - accuracy: 0.7254\n",
            "Epoch 4: val_accuracy improved from 0.74750 to 0.76250, saving model to /content/drive/MyDrive/model.h5\n",
            "250/250 [==============================] - 26s 105ms/step - loss: 0.5394 - accuracy: 0.7254 - val_loss: 0.5218 - val_accuracy: 0.7625\n",
            "Epoch 5/30\n",
            "250/250 [==============================] - ETA: 0s - loss: 0.5037 - accuracy: 0.7516\n",
            "Epoch 5: val_accuracy did not improve from 0.76250\n",
            "250/250 [==============================] - 27s 107ms/step - loss: 0.5037 - accuracy: 0.7516 - val_loss: 0.5141 - val_accuracy: 0.7505\n",
            "Epoch 6/30\n",
            "250/250 [==============================] - ETA: 0s - loss: 0.4839 - accuracy: 0.7680\n",
            "Epoch 6: val_accuracy improved from 0.76250 to 0.76450, saving model to /content/drive/MyDrive/model.h5\n",
            "250/250 [==============================] - 29s 116ms/step - loss: 0.4839 - accuracy: 0.7680 - val_loss: 0.5091 - val_accuracy: 0.7645\n",
            "Epoch 7/30\n",
            "250/250 [==============================] - ETA: 0s - loss: 0.4739 - accuracy: 0.7746\n",
            "Epoch 7: val_accuracy improved from 0.76450 to 0.78150, saving model to /content/drive/MyDrive/model.h5\n",
            "250/250 [==============================] - 26s 103ms/step - loss: 0.4739 - accuracy: 0.7746 - val_loss: 0.4584 - val_accuracy: 0.7815\n",
            "Epoch 8/30\n",
            "250/250 [==============================] - ETA: 0s - loss: 0.4532 - accuracy: 0.7869\n",
            "Epoch 8: val_accuracy did not improve from 0.78150\n",
            "250/250 [==============================] - 27s 107ms/step - loss: 0.4532 - accuracy: 0.7869 - val_loss: 0.4935 - val_accuracy: 0.7705\n",
            "Epoch 9/30\n",
            "250/250 [==============================] - ETA: 0s - loss: 0.4373 - accuracy: 0.7980\n",
            "Epoch 9: val_accuracy did not improve from 0.78150\n",
            "250/250 [==============================] - 29s 114ms/step - loss: 0.4373 - accuracy: 0.7980 - val_loss: 0.5842 - val_accuracy: 0.7590\n",
            "Epoch 10/30\n",
            "250/250 [==============================] - ETA: 0s - loss: 0.4246 - accuracy: 0.7987\n",
            "Epoch 10: val_accuracy improved from 0.78150 to 0.79700, saving model to /content/drive/MyDrive/model.h5\n",
            "250/250 [==============================] - 26s 104ms/step - loss: 0.4246 - accuracy: 0.7987 - val_loss: 0.4554 - val_accuracy: 0.7970\n",
            "Epoch 11/30\n",
            "250/250 [==============================] - ETA: 0s - loss: 0.4251 - accuracy: 0.8016\n",
            "Epoch 11: val_accuracy did not improve from 0.79700\n",
            "250/250 [==============================] - 28s 110ms/step - loss: 0.4251 - accuracy: 0.8016 - val_loss: 1.3285 - val_accuracy: 0.5960\n",
            "Epoch 12/30\n",
            "250/250 [==============================] - ETA: 0s - loss: 0.4112 - accuracy: 0.8120\n",
            "Epoch 12: val_accuracy did not improve from 0.79700\n",
            "250/250 [==============================] - 26s 104ms/step - loss: 0.4112 - accuracy: 0.8120 - val_loss: 0.8566 - val_accuracy: 0.7085\n",
            "Epoch 13/30\n",
            "250/250 [==============================] - ETA: 0s - loss: 0.4043 - accuracy: 0.8123\n",
            "Epoch 13: val_accuracy did not improve from 0.79700\n",
            "250/250 [==============================] - 27s 106ms/step - loss: 0.4043 - accuracy: 0.8123 - val_loss: 0.4823 - val_accuracy: 0.7705\n",
            "Epoch 14/30\n",
            "250/250 [==============================] - ETA: 0s - loss: 0.3957 - accuracy: 0.8206\n",
            "Epoch 14: val_accuracy improved from 0.79700 to 0.79900, saving model to /content/drive/MyDrive/model.h5\n",
            "250/250 [==============================] - 29s 117ms/step - loss: 0.3957 - accuracy: 0.8206 - val_loss: 0.4848 - val_accuracy: 0.7990\n",
            "Epoch 15/30\n",
            "250/250 [==============================] - ETA: 0s - loss: 0.3976 - accuracy: 0.8166\n",
            "Epoch 15: val_accuracy improved from 0.79900 to 0.84550, saving model to /content/drive/MyDrive/model.h5\n",
            "250/250 [==============================] - 26s 105ms/step - loss: 0.3976 - accuracy: 0.8166 - val_loss: 0.3885 - val_accuracy: 0.8455\n",
            "Epoch 16/30\n",
            "250/250 [==============================] - ETA: 0s - loss: 0.3722 - accuracy: 0.8345\n",
            "Epoch 16: val_accuracy did not improve from 0.84550\n",
            "250/250 [==============================] - 27s 109ms/step - loss: 0.3722 - accuracy: 0.8345 - val_loss: 0.5445 - val_accuracy: 0.7950\n",
            "Epoch 17/30\n",
            "250/250 [==============================] - ETA: 0s - loss: 0.3666 - accuracy: 0.8375\n",
            "Epoch 17: val_accuracy did not improve from 0.84550\n",
            "250/250 [==============================] - 28s 112ms/step - loss: 0.3666 - accuracy: 0.8375 - val_loss: 0.3611 - val_accuracy: 0.8435\n",
            "Epoch 18/30\n",
            "250/250 [==============================] - ETA: 0s - loss: 0.3552 - accuracy: 0.8393\n",
            "Epoch 18: val_accuracy did not improve from 0.84550\n",
            "250/250 [==============================] - 25s 101ms/step - loss: 0.3552 - accuracy: 0.8393 - val_loss: 0.4195 - val_accuracy: 0.8165\n",
            "Epoch 19/30\n",
            "250/250 [==============================] - ETA: 0s - loss: 0.3656 - accuracy: 0.8350\n",
            "Epoch 19: val_accuracy improved from 0.84550 to 0.84600, saving model to /content/drive/MyDrive/model.h5\n",
            "250/250 [==============================] - 29s 116ms/step - loss: 0.3656 - accuracy: 0.8350 - val_loss: 0.3594 - val_accuracy: 0.8460\n",
            "Epoch 20/30\n",
            "250/250 [==============================] - ETA: 0s - loss: 0.3413 - accuracy: 0.8493\n",
            "Epoch 20: val_accuracy did not improve from 0.84600\n",
            "250/250 [==============================] - 28s 112ms/step - loss: 0.3413 - accuracy: 0.8493 - val_loss: 0.3697 - val_accuracy: 0.8240\n",
            "Epoch 21/30\n",
            "250/250 [==============================] - ETA: 0s - loss: 0.3534 - accuracy: 0.8426\n",
            "Epoch 21: val_accuracy did not improve from 0.84600\n",
            "250/250 [==============================] - 25s 100ms/step - loss: 0.3534 - accuracy: 0.8426 - val_loss: 0.3990 - val_accuracy: 0.8185\n",
            "Epoch 22/30\n",
            "250/250 [==============================] - ETA: 0s - loss: 0.3403 - accuracy: 0.8534\n",
            "Epoch 22: val_accuracy did not improve from 0.84600\n",
            "250/250 [==============================] - 27s 107ms/step - loss: 0.3403 - accuracy: 0.8534 - val_loss: 0.3821 - val_accuracy: 0.8385\n",
            "Epoch 23/30\n",
            "250/250 [==============================] - ETA: 0s - loss: 0.3281 - accuracy: 0.8560\n",
            "Epoch 23: val_accuracy did not improve from 0.84600\n",
            "250/250 [==============================] - 27s 108ms/step - loss: 0.3281 - accuracy: 0.8560 - val_loss: 0.7840 - val_accuracy: 0.6675\n",
            "Epoch 24/30\n",
            "250/250 [==============================] - ETA: 0s - loss: 0.3330 - accuracy: 0.8584\n",
            "Epoch 24: val_accuracy improved from 0.84600 to 0.85550, saving model to /content/drive/MyDrive/model.h5\n",
            "250/250 [==============================] - 27s 108ms/step - loss: 0.3330 - accuracy: 0.8584 - val_loss: 0.3442 - val_accuracy: 0.8555\n",
            "Epoch 25/30\n",
            "250/250 [==============================] - ETA: 0s - loss: 0.3318 - accuracy: 0.8514\n",
            "Epoch 25: val_accuracy did not improve from 0.85550\n",
            "250/250 [==============================] - 28s 112ms/step - loss: 0.3318 - accuracy: 0.8514 - val_loss: 1.0046 - val_accuracy: 0.6840\n",
            "Epoch 26/30\n",
            "250/250 [==============================] - ETA: 0s - loss: 0.3230 - accuracy: 0.8587\n",
            "Epoch 26: val_accuracy did not improve from 0.85550\n",
            "250/250 [==============================] - 25s 100ms/step - loss: 0.3230 - accuracy: 0.8587 - val_loss: 0.3354 - val_accuracy: 0.8495\n",
            "Epoch 27/30\n",
            "250/250 [==============================] - ETA: 0s - loss: 0.3109 - accuracy: 0.8634\n",
            "Epoch 27: val_accuracy did not improve from 0.85550\n",
            "250/250 [==============================] - 26s 103ms/step - loss: 0.3109 - accuracy: 0.8634 - val_loss: 0.3345 - val_accuracy: 0.8505\n",
            "Epoch 28/30\n",
            "250/250 [==============================] - ETA: 0s - loss: 0.3096 - accuracy: 0.8711\n",
            "Epoch 28: val_accuracy did not improve from 0.85550\n",
            "250/250 [==============================] - 27s 110ms/step - loss: 0.3096 - accuracy: 0.8711 - val_loss: 0.5644 - val_accuracy: 0.7890\n",
            "Epoch 29/30\n",
            "250/250 [==============================] - ETA: 0s - loss: 0.3068 - accuracy: 0.8636\n",
            "Epoch 29: val_accuracy did not improve from 0.85550\n",
            "250/250 [==============================] - 25s 100ms/step - loss: 0.3068 - accuracy: 0.8636 - val_loss: 0.4086 - val_accuracy: 0.8120\n",
            "Epoch 30/30\n",
            "250/250 [==============================] - ETA: 0s - loss: 0.3032 - accuracy: 0.8694\n",
            "Epoch 30: val_accuracy did not improve from 0.85550\n",
            "250/250 [==============================] - 27s 107ms/step - loss: 0.3032 - accuracy: 0.8694 - val_loss: 0.3692 - val_accuracy: 0.8350\n"
          ]
        },
        {
          "output_type": "execute_result",
          "data": {
            "text/plain": [
              "<keras.src.callbacks.History at 0x7d771c1556c0>"
            ]
          },
          "metadata": {},
          "execution_count": 11
        }
      ]
    },
    {
      "cell_type": "code",
      "source": [
        "from keras.models import load_model\n",
        "classifier= load_model('/content/drive/MyDrive/model.h5')"
      ],
      "metadata": {
        "id": "pvG_6g36R9fc"
      },
      "execution_count": 12,
      "outputs": []
    },
    {
      "cell_type": "code",
      "source": [
        "import numpy as np\n",
        "from keras.preprocessing import image\n",
        "test_image = image.load_img('/content/test2.jpg', target_size = (64, 64))\n",
        "test_image = image.img_to_array(test_image)\n",
        "test_image = np.expand_dims(test_image, axis = 0)\n",
        "result = classifier.predict(test_image)\n",
        "#train_generator.class_indices\n",
        "if result[0][0] == 1:\n",
        "    prediction = 'dog'\n",
        "    result\n",
        "else:\n",
        "    prediction = 'cat'\n",
        "print(prediction)\n",
        "print(result)"
      ],
      "metadata": {
        "colab": {
          "base_uri": "https://localhost:8080/"
        },
        "id": "7nCYKRs0A3wi",
        "outputId": "13db77f9-ed46-43ff-e344-fb7f37b82fc9"
      },
      "execution_count": 23,
      "outputs": [
        {
          "output_type": "stream",
          "name": "stdout",
          "text": [
            "1/1 [==============================] - 0s 73ms/step\n",
            "cat\n",
            "[[0.]]\n"
          ]
        }
      ]
    },
    {
      "cell_type": "code",
      "source": [
        "result[0][0]"
      ],
      "metadata": {
        "colab": {
          "base_uri": "https://localhost:8080/"
        },
        "id": "BzY-c_NSawuA",
        "outputId": "424f201a-8934-4a3a-c3e7-39817dd58097"
      },
      "execution_count": 24,
      "outputs": [
        {
          "output_type": "execute_result",
          "data": {
            "text/plain": [
              "0.0"
            ]
          },
          "metadata": {},
          "execution_count": 24
        }
      ]
    },
    {
      "cell_type": "code",
      "source": [],
      "metadata": {
        "id": "XpIi7KwaYH3m"
      },
      "execution_count": null,
      "outputs": []
    }
  ]
}